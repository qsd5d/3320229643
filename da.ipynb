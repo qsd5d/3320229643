import pandas as pd
from lets_plot import *
LetsPlot.setup_html()

# 读取数据
df = pd.read_csv('plastic-waste.csv')

# 计算沿海人口比例（沿海人口 / 总人口）
df['coastal_pop_ratio'] = df['coastal_pop'] / df['total_pop']

# 清除缺失值，确保所有必要的变量存在
df_clean = df.dropna(subset=['coastal_pop_ratio', 'plastic_waste_per_cap', 'continent'])

# 使用 letsplot 绘制按大陆着色的散点图
ggplot(df_clean) + aes(x='coastal_pop_ratio', y='plastic_waste_per_cap', color='continent') + \
    geom_point(size=3, alpha=0.7) + \
    labs(title='Plastic Waste per Capita vs Coastal Population Ratio by Continent',
         x='Coastal Population Ratio (Coastal Population / Total Population)',
         y='Plastic Waste per Capita (tons)') + \
    scale_y_continuous(breaks=[0, 0.2, 0.4, 0.6,0.8]) +  coord_cartesian(ylim=(0, 0.6)) +  theme(legend_position='right')
